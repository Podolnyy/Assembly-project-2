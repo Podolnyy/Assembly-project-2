{
 "cells": [
  {
   "cell_type": "markdown",
   "metadata": {
    "toc": true
   },
   "source": [
    "<h1>Содержание<span class=\"tocSkip\"></span></h1>\n",
    "<div class=\"toc\"><ul class=\"toc-item\"><li><span><a href=\"#Подготовка-данных\" data-toc-modified-id=\"Подготовка-данных-1\"><span class=\"toc-item-num\">1&nbsp;&nbsp;</span>Подготовка данных</a></span></li><li><span><a href=\"#Анализ-данных\" data-toc-modified-id=\"Анализ-данных-2\"><span class=\"toc-item-num\">2&nbsp;&nbsp;</span>Анализ данных</a></span></li><li><span><a href=\"#Модель\" data-toc-modified-id=\"Модель-3\"><span class=\"toc-item-num\">3&nbsp;&nbsp;</span>Модель</a></span></li><li><span><a href=\"#Выводы\" data-toc-modified-id=\"Выводы-4\"><span class=\"toc-item-num\">4&nbsp;&nbsp;</span>Выводы</a></span></li></ul></div>"
   ]
  },
  {
   "cell_type": "markdown",
   "metadata": {},
   "source": [
    "# Восстановление золота из руды"
   ]
  },
  {
   "cell_type": "markdown",
   "metadata": {},
   "source": [
    "Подготовьте прототип модели машинного обучения для «Цифры». Компания разрабатывает решения для эффективной работы промышленных предприятий.\n",
    "\n",
    "Модель должна предсказать коэффициент восстановления золота из золотосодержащей руды. Используйте данные с параметрами добычи и очистки. \n",
    "\n",
    "Модель поможет оптимизировать производство, чтобы не запускать предприятие с убыточными характеристиками.\n",
    "\n",
    "Вам нужно:\n",
    "\n",
    "1. Подготовить данные;\n",
    "2. Провести исследовательский анализ данных;\n",
    "3. Построить и обучить модель.\n",
    "\n",
    "Чтобы выполнить проект, обращайтесь к библиотекам *pandas*, *matplotlib* и *sklearn.* Вам поможет их документация."
   ]
  },
  {
   "cell_type": "code",
   "execution_count": 42,
   "metadata": {},
   "outputs": [],
   "source": [
    "import pandas as pd\n",
    "import seaborn as sns\n",
    "import numpy as np\n",
    "import matplotlib.pyplot as plt\n",
    "from matplotlib.pyplot import figure\n",
    "\n",
    "from sklearn.linear_model import LinearRegression\n",
    "from sklearn.ensemble import RandomForestRegressor\n",
    "from sklearn.tree import DecisionTreeRegressor\n",
    "from sklearn.dummy import DummyRegressor #добавил\n",
    "\n",
    "from sklearn.metrics import mean_absolute_error\n",
    "from sklearn.preprocessing import StandardScaler\n",
    "from sklearn.model_selection import cross_val_score\n",
    "from sklearn.metrics import make_scorer\n",
    "from sklearn.model_selection import GridSearchCV #добавил\n"
   ]
  },
  {
   "cell_type": "markdown",
   "metadata": {},
   "source": [
    "## Подготовка данных"
   ]
  },
  {
   "cell_type": "markdown",
   "metadata": {},
   "source": [
    "Запишу данные в переменные."
   ]
  },
  {
   "cell_type": "code",
   "execution_count": 2,
   "metadata": {},
   "outputs": [],
   "source": [
    "try:\n",
    "    data_train = pd.read_csv('https://code.s3.yandex.net/datasets/gold_recovery_train_new.csv')\n",
    "    data_test = pd.read_csv('https://code.s3.yandex.net/datasets/gold_recovery_test_new.csv')\n",
    "    data_full = pd.read_csv('https://code.s3.yandex.net/datasets/gold_recovery_full_new.csv')\n",
    "except:\n",
    "    data_train = pd.read_csv('/datasets/gold_recovery_train_new.csv')\n",
    "    data_test = pd.read_csv('/datasets/gold_recovery_test_new.csv')\n",
    "    data_full = pd.read_csv('/datasets/gold_recovery_full_new.csv')\n"
   ]
  },
  {
   "cell_type": "markdown",
   "metadata": {},
   "source": [
    "Посмотрим на типы данных, и на первые строки тренировочного датасета."
   ]
  },
  {
   "cell_type": "code",
   "execution_count": 3,
   "metadata": {},
   "outputs": [
    {
     "name": "stdout",
     "output_type": "stream",
     "text": [
      "<class 'pandas.core.frame.DataFrame'>\n",
      "RangeIndex: 14149 entries, 0 to 14148\n",
      "Data columns (total 87 columns):\n",
      " #   Column                                              Non-Null Count  Dtype  \n",
      "---  ------                                              --------------  -----  \n",
      " 0   date                                                14149 non-null  object \n",
      " 1   final.output.concentrate_ag                         14148 non-null  float64\n",
      " 2   final.output.concentrate_pb                         14148 non-null  float64\n",
      " 3   final.output.concentrate_sol                        13938 non-null  float64\n",
      " 4   final.output.concentrate_au                         14149 non-null  float64\n",
      " 5   final.output.recovery                               14149 non-null  float64\n",
      " 6   final.output.tail_ag                                14149 non-null  float64\n",
      " 7   final.output.tail_pb                                14049 non-null  float64\n",
      " 8   final.output.tail_sol                               14144 non-null  float64\n",
      " 9   final.output.tail_au                                14149 non-null  float64\n",
      " 10  primary_cleaner.input.sulfate                       14129 non-null  float64\n",
      " 11  primary_cleaner.input.depressant                    14117 non-null  float64\n",
      " 12  primary_cleaner.input.feed_size                     14149 non-null  float64\n",
      " 13  primary_cleaner.input.xanthate                      14049 non-null  float64\n",
      " 14  primary_cleaner.output.concentrate_ag               14149 non-null  float64\n",
      " 15  primary_cleaner.output.concentrate_pb               14063 non-null  float64\n",
      " 16  primary_cleaner.output.concentrate_sol              13863 non-null  float64\n",
      " 17  primary_cleaner.output.concentrate_au               14149 non-null  float64\n",
      " 18  primary_cleaner.output.tail_ag                      14148 non-null  float64\n",
      " 19  primary_cleaner.output.tail_pb                      14134 non-null  float64\n",
      " 20  primary_cleaner.output.tail_sol                     14103 non-null  float64\n",
      " 21  primary_cleaner.output.tail_au                      14149 non-null  float64\n",
      " 22  primary_cleaner.state.floatbank8_a_air              14145 non-null  float64\n",
      " 23  primary_cleaner.state.floatbank8_a_level            14148 non-null  float64\n",
      " 24  primary_cleaner.state.floatbank8_b_air              14145 non-null  float64\n",
      " 25  primary_cleaner.state.floatbank8_b_level            14148 non-null  float64\n",
      " 26  primary_cleaner.state.floatbank8_c_air              14147 non-null  float64\n",
      " 27  primary_cleaner.state.floatbank8_c_level            14148 non-null  float64\n",
      " 28  primary_cleaner.state.floatbank8_d_air              14146 non-null  float64\n",
      " 29  primary_cleaner.state.floatbank8_d_level            14148 non-null  float64\n",
      " 30  rougher.calculation.sulfate_to_au_concentrate       14148 non-null  float64\n",
      " 31  rougher.calculation.floatbank10_sulfate_to_au_feed  14148 non-null  float64\n",
      " 32  rougher.calculation.floatbank11_sulfate_to_au_feed  14148 non-null  float64\n",
      " 33  rougher.calculation.au_pb_ratio                     14149 non-null  float64\n",
      " 34  rougher.input.feed_ag                               14149 non-null  float64\n",
      " 35  rougher.input.feed_pb                               14049 non-null  float64\n",
      " 36  rougher.input.feed_rate                             14141 non-null  float64\n",
      " 37  rougher.input.feed_size                             14005 non-null  float64\n",
      " 38  rougher.input.feed_sol                              14071 non-null  float64\n",
      " 39  rougher.input.feed_au                               14149 non-null  float64\n",
      " 40  rougher.input.floatbank10_sulfate                   14120 non-null  float64\n",
      " 41  rougher.input.floatbank10_xanthate                  14141 non-null  float64\n",
      " 42  rougher.input.floatbank11_sulfate                   14113 non-null  float64\n",
      " 43  rougher.input.floatbank11_xanthate                  13721 non-null  float64\n",
      " 44  rougher.output.concentrate_ag                       14149 non-null  float64\n",
      " 45  rougher.output.concentrate_pb                       14149 non-null  float64\n",
      " 46  rougher.output.concentrate_sol                      14127 non-null  float64\n",
      " 47  rougher.output.concentrate_au                       14149 non-null  float64\n",
      " 48  rougher.output.recovery                             14149 non-null  float64\n",
      " 49  rougher.output.tail_ag                              14148 non-null  float64\n",
      " 50  rougher.output.tail_pb                              14149 non-null  float64\n",
      " 51  rougher.output.tail_sol                             14149 non-null  float64\n",
      " 52  rougher.output.tail_au                              14149 non-null  float64\n",
      " 53  rougher.state.floatbank10_a_air                     14148 non-null  float64\n",
      " 54  rougher.state.floatbank10_a_level                   14148 non-null  float64\n",
      " 55  rougher.state.floatbank10_b_air                     14148 non-null  float64\n",
      " 56  rougher.state.floatbank10_b_level                   14148 non-null  float64\n",
      " 57  rougher.state.floatbank10_c_air                     14148 non-null  float64\n",
      " 58  rougher.state.floatbank10_c_level                   14148 non-null  float64\n",
      " 59  rougher.state.floatbank10_d_air                     14149 non-null  float64\n",
      " 60  rougher.state.floatbank10_d_level                   14149 non-null  float64\n",
      " 61  rougher.state.floatbank10_e_air                     13713 non-null  float64\n",
      " 62  rougher.state.floatbank10_e_level                   14149 non-null  float64\n",
      " 63  rougher.state.floatbank10_f_air                     14149 non-null  float64\n",
      " 64  rougher.state.floatbank10_f_level                   14149 non-null  float64\n",
      " 65  secondary_cleaner.output.tail_ag                    14147 non-null  float64\n",
      " 66  secondary_cleaner.output.tail_pb                    14139 non-null  float64\n",
      " 67  secondary_cleaner.output.tail_sol                   12544 non-null  float64\n",
      " 68  secondary_cleaner.output.tail_au                    14149 non-null  float64\n",
      " 69  secondary_cleaner.state.floatbank2_a_air            13932 non-null  float64\n",
      " 70  secondary_cleaner.state.floatbank2_a_level          14148 non-null  float64\n",
      " 71  secondary_cleaner.state.floatbank2_b_air            14128 non-null  float64\n",
      " 72  secondary_cleaner.state.floatbank2_b_level          14148 non-null  float64\n",
      " 73  secondary_cleaner.state.floatbank3_a_air            14145 non-null  float64\n",
      " 74  secondary_cleaner.state.floatbank3_a_level          14148 non-null  float64\n",
      " 75  secondary_cleaner.state.floatbank3_b_air            14148 non-null  float64\n",
      " 76  secondary_cleaner.state.floatbank3_b_level          14148 non-null  float64\n",
      " 77  secondary_cleaner.state.floatbank4_a_air            14143 non-null  float64\n",
      " 78  secondary_cleaner.state.floatbank4_a_level          14148 non-null  float64\n",
      " 79  secondary_cleaner.state.floatbank4_b_air            14148 non-null  float64\n",
      " 80  secondary_cleaner.state.floatbank4_b_level          14148 non-null  float64\n",
      " 81  secondary_cleaner.state.floatbank5_a_air            14148 non-null  float64\n",
      " 82  secondary_cleaner.state.floatbank5_a_level          14148 non-null  float64\n",
      " 83  secondary_cleaner.state.floatbank5_b_air            14148 non-null  float64\n",
      " 84  secondary_cleaner.state.floatbank5_b_level          14148 non-null  float64\n",
      " 85  secondary_cleaner.state.floatbank6_a_air            14147 non-null  float64\n",
      " 86  secondary_cleaner.state.floatbank6_a_level          14148 non-null  float64\n",
      "dtypes: float64(86), object(1)\n",
      "memory usage: 9.4+ MB\n",
      "None\n"
     ]
    },
    {
     "data": {
      "text/html": [
       "<div>\n",
       "<style scoped>\n",
       "    .dataframe tbody tr th:only-of-type {\n",
       "        vertical-align: middle;\n",
       "    }\n",
       "\n",
       "    .dataframe tbody tr th {\n",
       "        vertical-align: top;\n",
       "    }\n",
       "\n",
       "    .dataframe thead th {\n",
       "        text-align: right;\n",
       "    }\n",
       "</style>\n",
       "<table border=\"1\" class=\"dataframe\">\n",
       "  <thead>\n",
       "    <tr style=\"text-align: right;\">\n",
       "      <th></th>\n",
       "      <th>date</th>\n",
       "      <th>final.output.concentrate_ag</th>\n",
       "      <th>final.output.concentrate_pb</th>\n",
       "      <th>final.output.concentrate_sol</th>\n",
       "      <th>final.output.concentrate_au</th>\n",
       "      <th>final.output.recovery</th>\n",
       "      <th>final.output.tail_ag</th>\n",
       "      <th>final.output.tail_pb</th>\n",
       "      <th>final.output.tail_sol</th>\n",
       "      <th>final.output.tail_au</th>\n",
       "      <th>...</th>\n",
       "      <th>secondary_cleaner.state.floatbank4_a_air</th>\n",
       "      <th>secondary_cleaner.state.floatbank4_a_level</th>\n",
       "      <th>secondary_cleaner.state.floatbank4_b_air</th>\n",
       "      <th>secondary_cleaner.state.floatbank4_b_level</th>\n",
       "      <th>secondary_cleaner.state.floatbank5_a_air</th>\n",
       "      <th>secondary_cleaner.state.floatbank5_a_level</th>\n",
       "      <th>secondary_cleaner.state.floatbank5_b_air</th>\n",
       "      <th>secondary_cleaner.state.floatbank5_b_level</th>\n",
       "      <th>secondary_cleaner.state.floatbank6_a_air</th>\n",
       "      <th>secondary_cleaner.state.floatbank6_a_level</th>\n",
       "    </tr>\n",
       "  </thead>\n",
       "  <tbody>\n",
       "    <tr>\n",
       "      <th>0</th>\n",
       "      <td>2016-01-15 00:00:00</td>\n",
       "      <td>6.055403</td>\n",
       "      <td>9.889648</td>\n",
       "      <td>5.507324</td>\n",
       "      <td>42.192020</td>\n",
       "      <td>70.541216</td>\n",
       "      <td>10.411962</td>\n",
       "      <td>0.895447</td>\n",
       "      <td>16.904297</td>\n",
       "      <td>2.143149</td>\n",
       "      <td>...</td>\n",
       "      <td>14.016835</td>\n",
       "      <td>-502.488007</td>\n",
       "      <td>12.099931</td>\n",
       "      <td>-504.715942</td>\n",
       "      <td>9.925633</td>\n",
       "      <td>-498.310211</td>\n",
       "      <td>8.079666</td>\n",
       "      <td>-500.470978</td>\n",
       "      <td>14.151341</td>\n",
       "      <td>-605.841980</td>\n",
       "    </tr>\n",
       "    <tr>\n",
       "      <th>1</th>\n",
       "      <td>2016-01-15 01:00:00</td>\n",
       "      <td>6.029369</td>\n",
       "      <td>9.968944</td>\n",
       "      <td>5.257781</td>\n",
       "      <td>42.701629</td>\n",
       "      <td>69.266198</td>\n",
       "      <td>10.462676</td>\n",
       "      <td>0.927452</td>\n",
       "      <td>16.634514</td>\n",
       "      <td>2.224930</td>\n",
       "      <td>...</td>\n",
       "      <td>13.992281</td>\n",
       "      <td>-505.503262</td>\n",
       "      <td>11.950531</td>\n",
       "      <td>-501.331529</td>\n",
       "      <td>10.039245</td>\n",
       "      <td>-500.169983</td>\n",
       "      <td>7.984757</td>\n",
       "      <td>-500.582168</td>\n",
       "      <td>13.998353</td>\n",
       "      <td>-599.787184</td>\n",
       "    </tr>\n",
       "    <tr>\n",
       "      <th>2</th>\n",
       "      <td>2016-01-15 02:00:00</td>\n",
       "      <td>6.055926</td>\n",
       "      <td>10.213995</td>\n",
       "      <td>5.383759</td>\n",
       "      <td>42.657501</td>\n",
       "      <td>68.116445</td>\n",
       "      <td>10.507046</td>\n",
       "      <td>0.953716</td>\n",
       "      <td>16.208849</td>\n",
       "      <td>2.257889</td>\n",
       "      <td>...</td>\n",
       "      <td>14.015015</td>\n",
       "      <td>-502.520901</td>\n",
       "      <td>11.912783</td>\n",
       "      <td>-501.133383</td>\n",
       "      <td>10.070913</td>\n",
       "      <td>-500.129135</td>\n",
       "      <td>8.013877</td>\n",
       "      <td>-500.517572</td>\n",
       "      <td>14.028663</td>\n",
       "      <td>-601.427363</td>\n",
       "    </tr>\n",
       "    <tr>\n",
       "      <th>3</th>\n",
       "      <td>2016-01-15 03:00:00</td>\n",
       "      <td>6.047977</td>\n",
       "      <td>9.977019</td>\n",
       "      <td>4.858634</td>\n",
       "      <td>42.689819</td>\n",
       "      <td>68.347543</td>\n",
       "      <td>10.422762</td>\n",
       "      <td>0.883763</td>\n",
       "      <td>16.532835</td>\n",
       "      <td>2.146849</td>\n",
       "      <td>...</td>\n",
       "      <td>14.036510</td>\n",
       "      <td>-500.857308</td>\n",
       "      <td>11.999550</td>\n",
       "      <td>-501.193686</td>\n",
       "      <td>9.970366</td>\n",
       "      <td>-499.201640</td>\n",
       "      <td>7.977324</td>\n",
       "      <td>-500.255908</td>\n",
       "      <td>14.005551</td>\n",
       "      <td>-599.996129</td>\n",
       "    </tr>\n",
       "    <tr>\n",
       "      <th>4</th>\n",
       "      <td>2016-01-15 04:00:00</td>\n",
       "      <td>6.148599</td>\n",
       "      <td>10.142511</td>\n",
       "      <td>4.939416</td>\n",
       "      <td>42.774141</td>\n",
       "      <td>66.927016</td>\n",
       "      <td>10.360302</td>\n",
       "      <td>0.792826</td>\n",
       "      <td>16.525686</td>\n",
       "      <td>2.055292</td>\n",
       "      <td>...</td>\n",
       "      <td>14.027298</td>\n",
       "      <td>-499.838632</td>\n",
       "      <td>11.953070</td>\n",
       "      <td>-501.053894</td>\n",
       "      <td>9.925709</td>\n",
       "      <td>-501.686727</td>\n",
       "      <td>7.894242</td>\n",
       "      <td>-500.356035</td>\n",
       "      <td>13.996647</td>\n",
       "      <td>-601.496691</td>\n",
       "    </tr>\n",
       "  </tbody>\n",
       "</table>\n",
       "<p>5 rows × 87 columns</p>\n",
       "</div>"
      ],
      "text/plain": [
       "                  date  final.output.concentrate_ag  \\\n",
       "0  2016-01-15 00:00:00                     6.055403   \n",
       "1  2016-01-15 01:00:00                     6.029369   \n",
       "2  2016-01-15 02:00:00                     6.055926   \n",
       "3  2016-01-15 03:00:00                     6.047977   \n",
       "4  2016-01-15 04:00:00                     6.148599   \n",
       "\n",
       "   final.output.concentrate_pb  final.output.concentrate_sol  \\\n",
       "0                     9.889648                      5.507324   \n",
       "1                     9.968944                      5.257781   \n",
       "2                    10.213995                      5.383759   \n",
       "3                     9.977019                      4.858634   \n",
       "4                    10.142511                      4.939416   \n",
       "\n",
       "   final.output.concentrate_au  final.output.recovery  final.output.tail_ag  \\\n",
       "0                    42.192020              70.541216             10.411962   \n",
       "1                    42.701629              69.266198             10.462676   \n",
       "2                    42.657501              68.116445             10.507046   \n",
       "3                    42.689819              68.347543             10.422762   \n",
       "4                    42.774141              66.927016             10.360302   \n",
       "\n",
       "   final.output.tail_pb  final.output.tail_sol  final.output.tail_au  ...  \\\n",
       "0              0.895447              16.904297              2.143149  ...   \n",
       "1              0.927452              16.634514              2.224930  ...   \n",
       "2              0.953716              16.208849              2.257889  ...   \n",
       "3              0.883763              16.532835              2.146849  ...   \n",
       "4              0.792826              16.525686              2.055292  ...   \n",
       "\n",
       "   secondary_cleaner.state.floatbank4_a_air  \\\n",
       "0                                 14.016835   \n",
       "1                                 13.992281   \n",
       "2                                 14.015015   \n",
       "3                                 14.036510   \n",
       "4                                 14.027298   \n",
       "\n",
       "   secondary_cleaner.state.floatbank4_a_level  \\\n",
       "0                                 -502.488007   \n",
       "1                                 -505.503262   \n",
       "2                                 -502.520901   \n",
       "3                                 -500.857308   \n",
       "4                                 -499.838632   \n",
       "\n",
       "   secondary_cleaner.state.floatbank4_b_air  \\\n",
       "0                                 12.099931   \n",
       "1                                 11.950531   \n",
       "2                                 11.912783   \n",
       "3                                 11.999550   \n",
       "4                                 11.953070   \n",
       "\n",
       "   secondary_cleaner.state.floatbank4_b_level  \\\n",
       "0                                 -504.715942   \n",
       "1                                 -501.331529   \n",
       "2                                 -501.133383   \n",
       "3                                 -501.193686   \n",
       "4                                 -501.053894   \n",
       "\n",
       "   secondary_cleaner.state.floatbank5_a_air  \\\n",
       "0                                  9.925633   \n",
       "1                                 10.039245   \n",
       "2                                 10.070913   \n",
       "3                                  9.970366   \n",
       "4                                  9.925709   \n",
       "\n",
       "   secondary_cleaner.state.floatbank5_a_level  \\\n",
       "0                                 -498.310211   \n",
       "1                                 -500.169983   \n",
       "2                                 -500.129135   \n",
       "3                                 -499.201640   \n",
       "4                                 -501.686727   \n",
       "\n",
       "   secondary_cleaner.state.floatbank5_b_air  \\\n",
       "0                                  8.079666   \n",
       "1                                  7.984757   \n",
       "2                                  8.013877   \n",
       "3                                  7.977324   \n",
       "4                                  7.894242   \n",
       "\n",
       "   secondary_cleaner.state.floatbank5_b_level  \\\n",
       "0                                 -500.470978   \n",
       "1                                 -500.582168   \n",
       "2                                 -500.517572   \n",
       "3                                 -500.255908   \n",
       "4                                 -500.356035   \n",
       "\n",
       "   secondary_cleaner.state.floatbank6_a_air  \\\n",
       "0                                 14.151341   \n",
       "1                                 13.998353   \n",
       "2                                 14.028663   \n",
       "3                                 14.005551   \n",
       "4                                 13.996647   \n",
       "\n",
       "   secondary_cleaner.state.floatbank6_a_level  \n",
       "0                                 -605.841980  \n",
       "1                                 -599.787184  \n",
       "2                                 -601.427363  \n",
       "3                                 -599.996129  \n",
       "4                                 -601.496691  \n",
       "\n",
       "[5 rows x 87 columns]"
      ]
     },
     "execution_count": 3,
     "metadata": {},
     "output_type": "execute_result"
    }
   ],
   "source": [
    "print(data_train.info())\n",
    "data_train.head()"
   ]
  },
  {
   "cell_type": "markdown",
   "metadata": {},
   "source": [
    "Проверим тренировочный датасет на пропуски, заполним их медимнными значениями."
   ]
  },
  {
   "cell_type": "code",
   "execution_count": 4,
   "metadata": {},
   "outputs": [
    {
     "data": {
      "text/plain": [
       "date                                            0\n",
       "final.output.concentrate_ag                     1\n",
       "final.output.concentrate_pb                     1\n",
       "final.output.concentrate_sol                  211\n",
       "final.output.concentrate_au                     0\n",
       "                                             ... \n",
       "secondary_cleaner.state.floatbank5_a_level      1\n",
       "secondary_cleaner.state.floatbank5_b_air        1\n",
       "secondary_cleaner.state.floatbank5_b_level      1\n",
       "secondary_cleaner.state.floatbank6_a_air        2\n",
       "secondary_cleaner.state.floatbank6_a_level      1\n",
       "Length: 87, dtype: int64"
      ]
     },
     "execution_count": 4,
     "metadata": {},
     "output_type": "execute_result"
    }
   ],
   "source": [
    "data_train.isna().sum()"
   ]
  },
  {
   "cell_type": "code",
   "execution_count": 5,
   "metadata": {},
   "outputs": [],
   "source": [
    "for i in data_train.columns[1:]:\n",
    "    data_train[i] = data_train[i].fillna(data_train[i].median())"
   ]
  },
  {
   "cell_type": "code",
   "execution_count": 6,
   "metadata": {
    "scrolled": true
   },
   "outputs": [
    {
     "data": {
      "text/plain": [
       "date                                          0\n",
       "final.output.concentrate_ag                   0\n",
       "final.output.concentrate_pb                   0\n",
       "final.output.concentrate_sol                  0\n",
       "final.output.concentrate_au                   0\n",
       "                                             ..\n",
       "secondary_cleaner.state.floatbank5_a_level    0\n",
       "secondary_cleaner.state.floatbank5_b_air      0\n",
       "secondary_cleaner.state.floatbank5_b_level    0\n",
       "secondary_cleaner.state.floatbank6_a_air      0\n",
       "secondary_cleaner.state.floatbank6_a_level    0\n",
       "Length: 87, dtype: int64"
      ]
     },
     "execution_count": 6,
     "metadata": {},
     "output_type": "execute_result"
    }
   ],
   "source": [
    "data_train.isna().sum()"
   ]
  },
  {
   "cell_type": "markdown",
   "metadata": {},
   "source": [
    "Проверим также наличие дубликатов."
   ]
  },
  {
   "cell_type": "code",
   "execution_count": 7,
   "metadata": {},
   "outputs": [
    {
     "data": {
      "text/plain": [
       "0"
      ]
     },
     "execution_count": 7,
     "metadata": {},
     "output_type": "execute_result"
    }
   ],
   "source": [
    "data_train.duplicated().sum()"
   ]
  },
  {
   "cell_type": "markdown",
   "metadata": {},
   "source": [
    "От пропусков в тренировочном датасете избавились, дубликаты не нашли.\n",
    "\n",
    "Повторим те же действия для двух других датасетов. \n",
    "Чтобы немного автоматизировать это всё дело, напишу функцию включающую в себя все предыдущие шаги.\n",
    "\n",
    "upd: не работает автоматизация - остаются пустые ячейки. хз почему..."
   ]
  },
  {
   "cell_type": "code",
   "execution_count": 8,
   "metadata": {},
   "outputs": [],
   "source": [
    "def data_preprocessing(data):\n",
    "    print(data.info())\n",
    "    print(data.head())\n",
    "    print('Кол-во пустых ячеек:')\n",
    "    print(data.isna().sum())\n",
    "    data = data.ffill(axis = 0)\n",
    "    print('Кол-во пустых ячеек после заполнения:')\n",
    "    print(data.isna().sum().sum())\n",
    "    print('Кол-во дубликатов:', data.duplicated().sum())\n",
    "    #На всякий случай напишу условие, при котором дубликаты будут удалятся\n",
    "    if data.duplicated().sum()>0:\n",
    "        data.drop_duplicates()\n",
    "        print('Кол-во дубликатов:', data.duplicated().sum())\n",
    "    return(data)"
   ]
  },
  {
   "cell_type": "code",
   "execution_count": 9,
   "metadata": {},
   "outputs": [
    {
     "name": "stdout",
     "output_type": "stream",
     "text": [
      "<class 'pandas.core.frame.DataFrame'>\n",
      "RangeIndex: 5290 entries, 0 to 5289\n",
      "Data columns (total 53 columns):\n",
      " #   Column                                      Non-Null Count  Dtype  \n",
      "---  ------                                      --------------  -----  \n",
      " 0   date                                        5290 non-null   object \n",
      " 1   primary_cleaner.input.sulfate               5286 non-null   float64\n",
      " 2   primary_cleaner.input.depressant            5285 non-null   float64\n",
      " 3   primary_cleaner.input.feed_size             5290 non-null   float64\n",
      " 4   primary_cleaner.input.xanthate              5286 non-null   float64\n",
      " 5   primary_cleaner.state.floatbank8_a_air      5290 non-null   float64\n",
      " 6   primary_cleaner.state.floatbank8_a_level    5290 non-null   float64\n",
      " 7   primary_cleaner.state.floatbank8_b_air      5290 non-null   float64\n",
      " 8   primary_cleaner.state.floatbank8_b_level    5290 non-null   float64\n",
      " 9   primary_cleaner.state.floatbank8_c_air      5290 non-null   float64\n",
      " 10  primary_cleaner.state.floatbank8_c_level    5290 non-null   float64\n",
      " 11  primary_cleaner.state.floatbank8_d_air      5290 non-null   float64\n",
      " 12  primary_cleaner.state.floatbank8_d_level    5290 non-null   float64\n",
      " 13  rougher.input.feed_ag                       5290 non-null   float64\n",
      " 14  rougher.input.feed_pb                       5290 non-null   float64\n",
      " 15  rougher.input.feed_rate                     5287 non-null   float64\n",
      " 16  rougher.input.feed_size                     5289 non-null   float64\n",
      " 17  rougher.input.feed_sol                      5269 non-null   float64\n",
      " 18  rougher.input.feed_au                       5290 non-null   float64\n",
      " 19  rougher.input.floatbank10_sulfate           5285 non-null   float64\n",
      " 20  rougher.input.floatbank10_xanthate          5290 non-null   float64\n",
      " 21  rougher.input.floatbank11_sulfate           5282 non-null   float64\n",
      " 22  rougher.input.floatbank11_xanthate          5265 non-null   float64\n",
      " 23  rougher.state.floatbank10_a_air             5290 non-null   float64\n",
      " 24  rougher.state.floatbank10_a_level           5290 non-null   float64\n",
      " 25  rougher.state.floatbank10_b_air             5290 non-null   float64\n",
      " 26  rougher.state.floatbank10_b_level           5290 non-null   float64\n",
      " 27  rougher.state.floatbank10_c_air             5290 non-null   float64\n",
      " 28  rougher.state.floatbank10_c_level           5290 non-null   float64\n",
      " 29  rougher.state.floatbank10_d_air             5290 non-null   float64\n",
      " 30  rougher.state.floatbank10_d_level           5290 non-null   float64\n",
      " 31  rougher.state.floatbank10_e_air             5290 non-null   float64\n",
      " 32  rougher.state.floatbank10_e_level           5290 non-null   float64\n",
      " 33  rougher.state.floatbank10_f_air             5290 non-null   float64\n",
      " 34  rougher.state.floatbank10_f_level           5290 non-null   float64\n",
      " 35  secondary_cleaner.state.floatbank2_a_air    5287 non-null   float64\n",
      " 36  secondary_cleaner.state.floatbank2_a_level  5290 non-null   float64\n",
      " 37  secondary_cleaner.state.floatbank2_b_air    5288 non-null   float64\n",
      " 38  secondary_cleaner.state.floatbank2_b_level  5290 non-null   float64\n",
      " 39  secondary_cleaner.state.floatbank3_a_air    5281 non-null   float64\n",
      " 40  secondary_cleaner.state.floatbank3_a_level  5290 non-null   float64\n",
      " 41  secondary_cleaner.state.floatbank3_b_air    5290 non-null   float64\n",
      " 42  secondary_cleaner.state.floatbank3_b_level  5290 non-null   float64\n",
      " 43  secondary_cleaner.state.floatbank4_a_air    5290 non-null   float64\n",
      " 44  secondary_cleaner.state.floatbank4_a_level  5290 non-null   float64\n",
      " 45  secondary_cleaner.state.floatbank4_b_air    5290 non-null   float64\n",
      " 46  secondary_cleaner.state.floatbank4_b_level  5290 non-null   float64\n",
      " 47  secondary_cleaner.state.floatbank5_a_air    5290 non-null   float64\n",
      " 48  secondary_cleaner.state.floatbank5_a_level  5290 non-null   float64\n",
      " 49  secondary_cleaner.state.floatbank5_b_air    5290 non-null   float64\n",
      " 50  secondary_cleaner.state.floatbank5_b_level  5290 non-null   float64\n",
      " 51  secondary_cleaner.state.floatbank6_a_air    5290 non-null   float64\n",
      " 52  secondary_cleaner.state.floatbank6_a_level  5290 non-null   float64\n",
      "dtypes: float64(52), object(1)\n",
      "memory usage: 2.1+ MB\n",
      "None\n",
      "                  date  primary_cleaner.input.sulfate  \\\n",
      "0  2016-09-01 00:59:59                     210.800909   \n",
      "1  2016-09-01 01:59:59                     215.392455   \n",
      "2  2016-09-01 02:59:59                     215.259946   \n",
      "3  2016-09-01 03:59:59                     215.336236   \n",
      "4  2016-09-01 04:59:59                     199.099327   \n",
      "\n",
      "   primary_cleaner.input.depressant  primary_cleaner.input.feed_size  \\\n",
      "0                         14.993118                         8.080000   \n",
      "1                         14.987471                         8.080000   \n",
      "2                         12.884934                         7.786667   \n",
      "3                         12.006805                         7.640000   \n",
      "4                         10.682530                         7.530000   \n",
      "\n",
      "   primary_cleaner.input.xanthate  primary_cleaner.state.floatbank8_a_air  \\\n",
      "0                        1.005021                             1398.981301   \n",
      "1                        0.990469                             1398.777912   \n",
      "2                        0.996043                             1398.493666   \n",
      "3                        0.863514                             1399.618111   \n",
      "4                        0.805575                             1401.268123   \n",
      "\n",
      "   primary_cleaner.state.floatbank8_a_level  \\\n",
      "0                               -500.225577   \n",
      "1                               -500.057435   \n",
      "2                               -500.868360   \n",
      "3                               -498.863574   \n",
      "4                               -500.808305   \n",
      "\n",
      "   primary_cleaner.state.floatbank8_b_air  \\\n",
      "0                             1399.144926   \n",
      "1                             1398.055362   \n",
      "2                             1398.860436   \n",
      "3                             1397.440120   \n",
      "4                             1398.128818   \n",
      "\n",
      "   primary_cleaner.state.floatbank8_b_level  \\\n",
      "0                               -499.919735   \n",
      "1                               -499.778182   \n",
      "2                               -499.764529   \n",
      "3                               -499.211024   \n",
      "4                               -499.504543   \n",
      "\n",
      "   primary_cleaner.state.floatbank8_c_air  ...  \\\n",
      "0                             1400.102998  ...   \n",
      "1                             1396.151033  ...   \n",
      "2                             1398.075709  ...   \n",
      "3                             1400.129303  ...   \n",
      "4                             1402.172226  ...   \n",
      "\n",
      "   secondary_cleaner.state.floatbank4_a_air  \\\n",
      "0                                 12.023554   \n",
      "1                                 12.058140   \n",
      "2                                 11.962366   \n",
      "3                                 12.033091   \n",
      "4                                 12.025367   \n",
      "\n",
      "   secondary_cleaner.state.floatbank4_a_level  \\\n",
      "0                                 -497.795834   \n",
      "1                                 -498.695773   \n",
      "2                                 -498.767484   \n",
      "3                                 -498.350935   \n",
      "4                                 -500.786497   \n",
      "\n",
      "   secondary_cleaner.state.floatbank4_b_air  \\\n",
      "0                                  8.016656   \n",
      "1                                  8.130979   \n",
      "2                                  8.096893   \n",
      "3                                  8.074946   \n",
      "4                                  8.054678   \n",
      "\n",
      "   secondary_cleaner.state.floatbank4_b_level  \\\n",
      "0                                 -501.289139   \n",
      "1                                 -499.634209   \n",
      "2                                 -500.827423   \n",
      "3                                 -499.474407   \n",
      "4                                 -500.397500   \n",
      "\n",
      "   secondary_cleaner.state.floatbank5_a_air  \\\n",
      "0                                  7.946562   \n",
      "1                                  7.958270   \n",
      "2                                  8.071056   \n",
      "3                                  7.897085   \n",
      "4                                  8.107890   \n",
      "\n",
      "   secondary_cleaner.state.floatbank5_a_level  \\\n",
      "0                                 -432.317850   \n",
      "1                                 -525.839648   \n",
      "2                                 -500.801673   \n",
      "3                                 -500.868509   \n",
      "4                                 -509.526725   \n",
      "\n",
      "   secondary_cleaner.state.floatbank5_b_air  \\\n",
      "0                                  4.872511   \n",
      "1                                  4.878850   \n",
      "2                                  4.905125   \n",
      "3                                  4.931400   \n",
      "4                                  4.957674   \n",
      "\n",
      "   secondary_cleaner.state.floatbank5_b_level  \\\n",
      "0                                 -500.037437   \n",
      "1                                 -500.162375   \n",
      "2                                 -499.828510   \n",
      "3                                 -499.963623   \n",
      "4                                 -500.360026   \n",
      "\n",
      "   secondary_cleaner.state.floatbank6_a_air  \\\n",
      "0                                 26.705889   \n",
      "1                                 25.019940   \n",
      "2                                 24.994862   \n",
      "3                                 24.948919   \n",
      "4                                 25.003331   \n",
      "\n",
      "   secondary_cleaner.state.floatbank6_a_level  \n",
      "0                                 -499.709414  \n",
      "1                                 -499.819438  \n",
      "2                                 -500.622559  \n",
      "3                                 -498.709987  \n",
      "4                                 -500.856333  \n",
      "\n",
      "[5 rows x 53 columns]\n",
      "Кол-во пустых ячеек:\n",
      "date                                           0\n",
      "primary_cleaner.input.sulfate                  4\n",
      "primary_cleaner.input.depressant               5\n",
      "primary_cleaner.input.feed_size                0\n",
      "primary_cleaner.input.xanthate                 4\n",
      "primary_cleaner.state.floatbank8_a_air         0\n",
      "primary_cleaner.state.floatbank8_a_level       0\n",
      "primary_cleaner.state.floatbank8_b_air         0\n",
      "primary_cleaner.state.floatbank8_b_level       0\n",
      "primary_cleaner.state.floatbank8_c_air         0\n",
      "primary_cleaner.state.floatbank8_c_level       0\n",
      "primary_cleaner.state.floatbank8_d_air         0\n",
      "primary_cleaner.state.floatbank8_d_level       0\n",
      "rougher.input.feed_ag                          0\n",
      "rougher.input.feed_pb                          0\n",
      "rougher.input.feed_rate                        3\n",
      "rougher.input.feed_size                        1\n",
      "rougher.input.feed_sol                        21\n",
      "rougher.input.feed_au                          0\n",
      "rougher.input.floatbank10_sulfate              5\n",
      "rougher.input.floatbank10_xanthate             0\n",
      "rougher.input.floatbank11_sulfate              8\n",
      "rougher.input.floatbank11_xanthate            25\n",
      "rougher.state.floatbank10_a_air                0\n",
      "rougher.state.floatbank10_a_level              0\n",
      "rougher.state.floatbank10_b_air                0\n",
      "rougher.state.floatbank10_b_level              0\n",
      "rougher.state.floatbank10_c_air                0\n",
      "rougher.state.floatbank10_c_level              0\n",
      "rougher.state.floatbank10_d_air                0\n",
      "rougher.state.floatbank10_d_level              0\n",
      "rougher.state.floatbank10_e_air                0\n",
      "rougher.state.floatbank10_e_level              0\n",
      "rougher.state.floatbank10_f_air                0\n",
      "rougher.state.floatbank10_f_level              0\n",
      "secondary_cleaner.state.floatbank2_a_air       3\n",
      "secondary_cleaner.state.floatbank2_a_level     0\n",
      "secondary_cleaner.state.floatbank2_b_air       2\n",
      "secondary_cleaner.state.floatbank2_b_level     0\n",
      "secondary_cleaner.state.floatbank3_a_air       9\n",
      "secondary_cleaner.state.floatbank3_a_level     0\n",
      "secondary_cleaner.state.floatbank3_b_air       0\n",
      "secondary_cleaner.state.floatbank3_b_level     0\n",
      "secondary_cleaner.state.floatbank4_a_air       0\n",
      "secondary_cleaner.state.floatbank4_a_level     0\n",
      "secondary_cleaner.state.floatbank4_b_air       0\n",
      "secondary_cleaner.state.floatbank4_b_level     0\n",
      "secondary_cleaner.state.floatbank5_a_air       0\n",
      "secondary_cleaner.state.floatbank5_a_level     0\n",
      "secondary_cleaner.state.floatbank5_b_air       0\n",
      "secondary_cleaner.state.floatbank5_b_level     0\n",
      "secondary_cleaner.state.floatbank6_a_air       0\n",
      "secondary_cleaner.state.floatbank6_a_level     0\n",
      "dtype: int64\n",
      "Кол-во пустых ячеек после заполнения:\n",
      "0\n",
      "Кол-во дубликатов: 0\n"
     ]
    }
   ],
   "source": [
    "data_test = data_preprocessing(data_test)"
   ]
  },
  {
   "cell_type": "code",
   "execution_count": 10,
   "metadata": {},
   "outputs": [
    {
     "name": "stdout",
     "output_type": "stream",
     "text": [
      "<class 'pandas.core.frame.DataFrame'>\n",
      "RangeIndex: 19439 entries, 0 to 19438\n",
      "Data columns (total 87 columns):\n",
      " #   Column                                              Non-Null Count  Dtype  \n",
      "---  ------                                              --------------  -----  \n",
      " 0   date                                                19439 non-null  object \n",
      " 1   final.output.concentrate_ag                         19438 non-null  float64\n",
      " 2   final.output.concentrate_pb                         19438 non-null  float64\n",
      " 3   final.output.concentrate_sol                        19228 non-null  float64\n",
      " 4   final.output.concentrate_au                         19439 non-null  float64\n",
      " 5   final.output.recovery                               19439 non-null  float64\n",
      " 6   final.output.tail_ag                                19438 non-null  float64\n",
      " 7   final.output.tail_pb                                19338 non-null  float64\n",
      " 8   final.output.tail_sol                               19433 non-null  float64\n",
      " 9   final.output.tail_au                                19439 non-null  float64\n",
      " 10  primary_cleaner.input.sulfate                       19415 non-null  float64\n",
      " 11  primary_cleaner.input.depressant                    19402 non-null  float64\n",
      " 12  primary_cleaner.input.feed_size                     19439 non-null  float64\n",
      " 13  primary_cleaner.input.xanthate                      19335 non-null  float64\n",
      " 14  primary_cleaner.output.concentrate_ag               19439 non-null  float64\n",
      " 15  primary_cleaner.output.concentrate_pb               19323 non-null  float64\n",
      " 16  primary_cleaner.output.concentrate_sol              19069 non-null  float64\n",
      " 17  primary_cleaner.output.concentrate_au               19439 non-null  float64\n",
      " 18  primary_cleaner.output.tail_ag                      19435 non-null  float64\n",
      " 19  primary_cleaner.output.tail_pb                      19418 non-null  float64\n",
      " 20  primary_cleaner.output.tail_sol                     19377 non-null  float64\n",
      " 21  primary_cleaner.output.tail_au                      19439 non-null  float64\n",
      " 22  primary_cleaner.state.floatbank8_a_air              19435 non-null  float64\n",
      " 23  primary_cleaner.state.floatbank8_a_level            19438 non-null  float64\n",
      " 24  primary_cleaner.state.floatbank8_b_air              19435 non-null  float64\n",
      " 25  primary_cleaner.state.floatbank8_b_level            19438 non-null  float64\n",
      " 26  primary_cleaner.state.floatbank8_c_air              19437 non-null  float64\n",
      " 27  primary_cleaner.state.floatbank8_c_level            19438 non-null  float64\n",
      " 28  primary_cleaner.state.floatbank8_d_air              19436 non-null  float64\n",
      " 29  primary_cleaner.state.floatbank8_d_level            19438 non-null  float64\n",
      " 30  rougher.calculation.sulfate_to_au_concentrate       19437 non-null  float64\n",
      " 31  rougher.calculation.floatbank10_sulfate_to_au_feed  19437 non-null  float64\n",
      " 32  rougher.calculation.floatbank11_sulfate_to_au_feed  19437 non-null  float64\n",
      " 33  rougher.calculation.au_pb_ratio                     19439 non-null  float64\n",
      " 34  rougher.input.feed_ag                               19439 non-null  float64\n",
      " 35  rougher.input.feed_pb                               19339 non-null  float64\n",
      " 36  rougher.input.feed_rate                             19428 non-null  float64\n",
      " 37  rougher.input.feed_size                             19294 non-null  float64\n",
      " 38  rougher.input.feed_sol                              19340 non-null  float64\n",
      " 39  rougher.input.feed_au                               19439 non-null  float64\n",
      " 40  rougher.input.floatbank10_sulfate                   19405 non-null  float64\n",
      " 41  rougher.input.floatbank10_xanthate                  19431 non-null  float64\n",
      " 42  rougher.input.floatbank11_sulfate                   19395 non-null  float64\n",
      " 43  rougher.input.floatbank11_xanthate                  18986 non-null  float64\n",
      " 44  rougher.output.concentrate_ag                       19439 non-null  float64\n",
      " 45  rougher.output.concentrate_pb                       19439 non-null  float64\n",
      " 46  rougher.output.concentrate_sol                      19416 non-null  float64\n",
      " 47  rougher.output.concentrate_au                       19439 non-null  float64\n",
      " 48  rougher.output.recovery                             19439 non-null  float64\n",
      " 49  rougher.output.tail_ag                              19438 non-null  float64\n",
      " 50  rougher.output.tail_pb                              19439 non-null  float64\n",
      " 51  rougher.output.tail_sol                             19439 non-null  float64\n",
      " 52  rougher.output.tail_au                              19439 non-null  float64\n",
      " 53  rougher.state.floatbank10_a_air                     19438 non-null  float64\n",
      " 54  rougher.state.floatbank10_a_level                   19438 non-null  float64\n",
      " 55  rougher.state.floatbank10_b_air                     19438 non-null  float64\n",
      " 56  rougher.state.floatbank10_b_level                   19438 non-null  float64\n",
      " 57  rougher.state.floatbank10_c_air                     19438 non-null  float64\n",
      " 58  rougher.state.floatbank10_c_level                   19438 non-null  float64\n",
      " 59  rougher.state.floatbank10_d_air                     19439 non-null  float64\n",
      " 60  rougher.state.floatbank10_d_level                   19439 non-null  float64\n",
      " 61  rougher.state.floatbank10_e_air                     19003 non-null  float64\n",
      " 62  rougher.state.floatbank10_e_level                   19439 non-null  float64\n",
      " 63  rougher.state.floatbank10_f_air                     19439 non-null  float64\n",
      " 64  rougher.state.floatbank10_f_level                   19439 non-null  float64\n",
      " 65  secondary_cleaner.output.tail_ag                    19437 non-null  float64\n",
      " 66  secondary_cleaner.output.tail_pb                    19427 non-null  float64\n",
      " 67  secondary_cleaner.output.tail_sol                   17691 non-null  float64\n",
      " 68  secondary_cleaner.output.tail_au                    19439 non-null  float64\n",
      " 69  secondary_cleaner.state.floatbank2_a_air            19219 non-null  float64\n",
      " 70  secondary_cleaner.state.floatbank2_a_level          19438 non-null  float64\n",
      " 71  secondary_cleaner.state.floatbank2_b_air            19416 non-null  float64\n",
      " 72  secondary_cleaner.state.floatbank2_b_level          19438 non-null  float64\n",
      " 73  secondary_cleaner.state.floatbank3_a_air            19426 non-null  float64\n",
      " 74  secondary_cleaner.state.floatbank3_a_level          19438 non-null  float64\n",
      " 75  secondary_cleaner.state.floatbank3_b_air            19438 non-null  float64\n",
      " 76  secondary_cleaner.state.floatbank3_b_level          19438 non-null  float64\n",
      " 77  secondary_cleaner.state.floatbank4_a_air            19433 non-null  float64\n",
      " 78  secondary_cleaner.state.floatbank4_a_level          19438 non-null  float64\n",
      " 79  secondary_cleaner.state.floatbank4_b_air            19438 non-null  float64\n",
      " 80  secondary_cleaner.state.floatbank4_b_level          19438 non-null  float64\n",
      " 81  secondary_cleaner.state.floatbank5_a_air            19438 non-null  float64\n",
      " 82  secondary_cleaner.state.floatbank5_a_level          19438 non-null  float64\n",
      " 83  secondary_cleaner.state.floatbank5_b_air            19438 non-null  float64\n",
      " 84  secondary_cleaner.state.floatbank5_b_level          19438 non-null  float64\n",
      " 85  secondary_cleaner.state.floatbank6_a_air            19437 non-null  float64\n",
      " 86  secondary_cleaner.state.floatbank6_a_level          19438 non-null  float64\n",
      "dtypes: float64(86), object(1)\n",
      "memory usage: 12.9+ MB\n",
      "None\n",
      "                  date  final.output.concentrate_ag  \\\n",
      "0  2016-01-15 00:00:00                     6.055403   \n",
      "1  2016-01-15 01:00:00                     6.029369   \n",
      "2  2016-01-15 02:00:00                     6.055926   \n",
      "3  2016-01-15 03:00:00                     6.047977   \n",
      "4  2016-01-15 04:00:00                     6.148599   \n",
      "\n",
      "   final.output.concentrate_pb  final.output.concentrate_sol  \\\n",
      "0                     9.889648                      5.507324   \n",
      "1                     9.968944                      5.257781   \n",
      "2                    10.213995                      5.383759   \n",
      "3                     9.977019                      4.858634   \n",
      "4                    10.142511                      4.939416   \n",
      "\n",
      "   final.output.concentrate_au  final.output.recovery  final.output.tail_ag  \\\n",
      "0                    42.192020              70.541216             10.411962   \n",
      "1                    42.701629              69.266198             10.462676   \n",
      "2                    42.657501              68.116445             10.507046   \n",
      "3                    42.689819              68.347543             10.422762   \n",
      "4                    42.774141              66.927016             10.360302   \n",
      "\n",
      "   final.output.tail_pb  final.output.tail_sol  final.output.tail_au  ...  \\\n",
      "0              0.895447              16.904297              2.143149  ...   \n",
      "1              0.927452              16.634514              2.224930  ...   \n",
      "2              0.953716              16.208849              2.257889  ...   \n",
      "3              0.883763              16.532835              2.146849  ...   \n",
      "4              0.792826              16.525686              2.055292  ...   \n",
      "\n",
      "   secondary_cleaner.state.floatbank4_a_air  \\\n",
      "0                                 14.016835   \n",
      "1                                 13.992281   \n",
      "2                                 14.015015   \n",
      "3                                 14.036510   \n",
      "4                                 14.027298   \n",
      "\n",
      "   secondary_cleaner.state.floatbank4_a_level  \\\n",
      "0                                 -502.488007   \n",
      "1                                 -505.503262   \n",
      "2                                 -502.520901   \n",
      "3                                 -500.857308   \n",
      "4                                 -499.838632   \n",
      "\n",
      "   secondary_cleaner.state.floatbank4_b_air  \\\n",
      "0                                 12.099931   \n",
      "1                                 11.950531   \n",
      "2                                 11.912783   \n",
      "3                                 11.999550   \n",
      "4                                 11.953070   \n",
      "\n",
      "   secondary_cleaner.state.floatbank4_b_level  \\\n",
      "0                                 -504.715942   \n",
      "1                                 -501.331529   \n",
      "2                                 -501.133383   \n",
      "3                                 -501.193686   \n",
      "4                                 -501.053894   \n",
      "\n",
      "   secondary_cleaner.state.floatbank5_a_air  \\\n",
      "0                                  9.925633   \n",
      "1                                 10.039245   \n",
      "2                                 10.070913   \n",
      "3                                  9.970366   \n",
      "4                                  9.925709   \n",
      "\n",
      "   secondary_cleaner.state.floatbank5_a_level  \\\n",
      "0                                 -498.310211   \n",
      "1                                 -500.169983   \n",
      "2                                 -500.129135   \n",
      "3                                 -499.201640   \n",
      "4                                 -501.686727   \n",
      "\n",
      "   secondary_cleaner.state.floatbank5_b_air  \\\n",
      "0                                  8.079666   \n",
      "1                                  7.984757   \n",
      "2                                  8.013877   \n",
      "3                                  7.977324   \n",
      "4                                  7.894242   \n",
      "\n",
      "   secondary_cleaner.state.floatbank5_b_level  \\\n",
      "0                                 -500.470978   \n",
      "1                                 -500.582168   \n",
      "2                                 -500.517572   \n",
      "3                                 -500.255908   \n",
      "4                                 -500.356035   \n",
      "\n",
      "   secondary_cleaner.state.floatbank6_a_air  \\\n",
      "0                                 14.151341   \n",
      "1                                 13.998353   \n",
      "2                                 14.028663   \n",
      "3                                 14.005551   \n",
      "4                                 13.996647   \n",
      "\n",
      "   secondary_cleaner.state.floatbank6_a_level  \n",
      "0                                 -605.841980  \n",
      "1                                 -599.787184  \n",
      "2                                 -601.427363  \n",
      "3                                 -599.996129  \n",
      "4                                 -601.496691  \n",
      "\n",
      "[5 rows x 87 columns]\n",
      "Кол-во пустых ячеек:\n",
      "date                                            0\n",
      "final.output.concentrate_ag                     1\n",
      "final.output.concentrate_pb                     1\n",
      "final.output.concentrate_sol                  211\n",
      "final.output.concentrate_au                     0\n",
      "                                             ... \n",
      "secondary_cleaner.state.floatbank5_a_level      1\n",
      "secondary_cleaner.state.floatbank5_b_air        1\n",
      "secondary_cleaner.state.floatbank5_b_level      1\n",
      "secondary_cleaner.state.floatbank6_a_air        2\n",
      "secondary_cleaner.state.floatbank6_a_level      1\n",
      "Length: 87, dtype: int64\n",
      "Кол-во пустых ячеек после заполнения:\n",
      "0\n",
      "Кол-во дубликатов: 0\n"
     ]
    }
   ],
   "source": [
    "data_full = data_preprocessing(data_full)"
   ]
  },
  {
   "cell_type": "code",
   "execution_count": 11,
   "metadata": {},
   "outputs": [
    {
     "name": "stdout",
     "output_type": "stream",
     "text": [
      "Кол-во пустых ячеек: date                                          0\n",
      "primary_cleaner.input.sulfate                 0\n",
      "primary_cleaner.input.depressant              0\n",
      "primary_cleaner.input.feed_size               0\n",
      "primary_cleaner.input.xanthate                0\n",
      "primary_cleaner.state.floatbank8_a_air        0\n",
      "primary_cleaner.state.floatbank8_a_level      0\n",
      "primary_cleaner.state.floatbank8_b_air        0\n",
      "primary_cleaner.state.floatbank8_b_level      0\n",
      "primary_cleaner.state.floatbank8_c_air        0\n",
      "primary_cleaner.state.floatbank8_c_level      0\n",
      "primary_cleaner.state.floatbank8_d_air        0\n",
      "primary_cleaner.state.floatbank8_d_level      0\n",
      "rougher.input.feed_ag                         0\n",
      "rougher.input.feed_pb                         0\n",
      "rougher.input.feed_rate                       0\n",
      "rougher.input.feed_size                       0\n",
      "rougher.input.feed_sol                        0\n",
      "rougher.input.feed_au                         0\n",
      "rougher.input.floatbank10_sulfate             0\n",
      "rougher.input.floatbank10_xanthate            0\n",
      "rougher.input.floatbank11_sulfate             0\n",
      "rougher.input.floatbank11_xanthate            0\n",
      "rougher.state.floatbank10_a_air               0\n",
      "rougher.state.floatbank10_a_level             0\n",
      "rougher.state.floatbank10_b_air               0\n",
      "rougher.state.floatbank10_b_level             0\n",
      "rougher.state.floatbank10_c_air               0\n",
      "rougher.state.floatbank10_c_level             0\n",
      "rougher.state.floatbank10_d_air               0\n",
      "rougher.state.floatbank10_d_level             0\n",
      "rougher.state.floatbank10_e_air               0\n",
      "rougher.state.floatbank10_e_level             0\n",
      "rougher.state.floatbank10_f_air               0\n",
      "rougher.state.floatbank10_f_level             0\n",
      "secondary_cleaner.state.floatbank2_a_air      0\n",
      "secondary_cleaner.state.floatbank2_a_level    0\n",
      "secondary_cleaner.state.floatbank2_b_air      0\n",
      "secondary_cleaner.state.floatbank2_b_level    0\n",
      "secondary_cleaner.state.floatbank3_a_air      0\n",
      "secondary_cleaner.state.floatbank3_a_level    0\n",
      "secondary_cleaner.state.floatbank3_b_air      0\n",
      "secondary_cleaner.state.floatbank3_b_level    0\n",
      "secondary_cleaner.state.floatbank4_a_air      0\n",
      "secondary_cleaner.state.floatbank4_a_level    0\n",
      "secondary_cleaner.state.floatbank4_b_air      0\n",
      "secondary_cleaner.state.floatbank4_b_level    0\n",
      "secondary_cleaner.state.floatbank5_a_air      0\n",
      "secondary_cleaner.state.floatbank5_a_level    0\n",
      "secondary_cleaner.state.floatbank5_b_air      0\n",
      "secondary_cleaner.state.floatbank5_b_level    0\n",
      "secondary_cleaner.state.floatbank6_a_air      0\n",
      "secondary_cleaner.state.floatbank6_a_level    0\n",
      "dtype: int64\n"
     ]
    }
   ],
   "source": [
    "print('Кол-во пустых ячеек:', data_test.isna().sum())"
   ]
  },
  {
   "cell_type": "code",
   "execution_count": 12,
   "metadata": {},
   "outputs": [
    {
     "name": "stdout",
     "output_type": "stream",
     "text": [
      "Кол-во пустых ячеек: date                                          0\n",
      "final.output.concentrate_ag                   0\n",
      "final.output.concentrate_pb                   0\n",
      "final.output.concentrate_sol                  0\n",
      "final.output.concentrate_au                   0\n",
      "                                             ..\n",
      "secondary_cleaner.state.floatbank5_a_level    0\n",
      "secondary_cleaner.state.floatbank5_b_air      0\n",
      "secondary_cleaner.state.floatbank5_b_level    0\n",
      "secondary_cleaner.state.floatbank6_a_air      0\n",
      "secondary_cleaner.state.floatbank6_a_level    0\n",
      "Length: 87, dtype: int64\n"
     ]
    }
   ],
   "source": [
    "print('Кол-во пустых ячеек:', data_full.isna().sum())"
   ]
  },
  {
   "cell_type": "code",
   "execution_count": 13,
   "metadata": {},
   "outputs": [
    {
     "name": "stdout",
     "output_type": "stream",
     "text": [
      "Кол-во пустых ячеек после заполнения: 0\n"
     ]
    }
   ],
   "source": [
    "data_full = data_full.ffill(axis = 0)\n",
    "print('Кол-во пустых ячеек после заполнения:', data_full.isna().sum().sum())"
   ]
  },
  {
   "attachments": {
    "image.png": {
     "image/png": "[encoded data removed]"
    }
   },
   "cell_type": "markdown",
   "metadata": {},
   "source": [
    "Посчитаем эффективность обогащения рассчитывается по формуле\n",
    "![image.png](attachment:image.png)"
   ]
  },
  {
   "cell_type": "code",
   "execution_count": 14,
   "metadata": {
    "scrolled": true
   },
   "outputs": [
    {
     "name": "stdout",
     "output_type": "stream",
     "text": [
      "0        87.107763\n",
      "1        86.843261\n",
      "2        86.842308\n",
      "3        87.226430\n",
      "4        86.688794\n",
      "           ...    \n",
      "14144    89.574376\n",
      "14145    87.724007\n",
      "14146    88.890579\n",
      "14147    89.858126\n",
      "14148    89.514960\n",
      "Name: recovery, Length: 14149, dtype: float64\n"
     ]
    }
   ],
   "source": [
    "data_train['recovery'] = ((data_train['rougher.output.concentrate_au'] \n",
    "                     * (data_train['rougher.input.feed_au'] - data_train['rougher.output.tail_au'])) \n",
    "                    / (data_train['rougher.input.feed_au'] \n",
    "                       * (data_train['rougher.output.concentrate_au'] - data_train['rougher.output.tail_au'])) * 100)\n",
    "\n",
    "print(data_train['recovery'])\n"
   ]
  },
  {
   "cell_type": "markdown",
   "metadata": {},
   "source": [
    "Найдем MAE между нашими расчётами и значением признака."
   ]
  },
  {
   "cell_type": "code",
   "execution_count": 15,
   "metadata": {},
   "outputs": [
    {
     "name": "stdout",
     "output_type": "stream",
     "text": [
      "MAE = 9.74e-15\n"
     ]
    }
   ],
   "source": [
    "MAE = mean_absolute_error(data_train['recovery'], data_train['rougher.output.recovery'])\n",
    "print('MAE = {:.3}'.format(MAE))"
   ]
  },
  {
   "cell_type": "markdown",
   "metadata": {},
   "source": [
    "Отклонение небольшое, что может свидетельствовать о том, что метрика <b>recovery</b> посчитана с высокой точностью."
   ]
  },
  {
   "cell_type": "code",
   "execution_count": 16,
   "metadata": {
    "scrolled": true
   },
   "outputs": [
    {
     "data": {
      "text/plain": [
       "['final.output.concentrate_ag',\n",
       " 'final.output.concentrate_pb',\n",
       " 'final.output.concentrate_sol',\n",
       " 'final.output.concentrate_au',\n",
       " 'final.output.recovery',\n",
       " 'final.output.tail_ag',\n",
       " 'final.output.tail_pb',\n",
       " 'final.output.tail_sol',\n",
       " 'final.output.tail_au',\n",
       " 'primary_cleaner.output.concentrate_ag',\n",
       " 'primary_cleaner.output.concentrate_pb',\n",
       " 'primary_cleaner.output.concentrate_sol',\n",
       " 'primary_cleaner.output.concentrate_au',\n",
       " 'primary_cleaner.output.tail_ag',\n",
       " 'primary_cleaner.output.tail_pb',\n",
       " 'primary_cleaner.output.tail_sol',\n",
       " 'primary_cleaner.output.tail_au',\n",
       " 'rougher.calculation.sulfate_to_au_concentrate',\n",
       " 'rougher.calculation.floatbank10_sulfate_to_au_feed',\n",
       " 'rougher.calculation.floatbank11_sulfate_to_au_feed',\n",
       " 'rougher.calculation.au_pb_ratio',\n",
       " 'rougher.output.concentrate_ag',\n",
       " 'rougher.output.concentrate_pb',\n",
       " 'rougher.output.concentrate_sol',\n",
       " 'rougher.output.concentrate_au',\n",
       " 'rougher.output.recovery',\n",
       " 'rougher.output.tail_ag',\n",
       " 'rougher.output.tail_pb',\n",
       " 'rougher.output.tail_sol',\n",
       " 'rougher.output.tail_au',\n",
       " 'secondary_cleaner.output.tail_ag',\n",
       " 'secondary_cleaner.output.tail_pb',\n",
       " 'secondary_cleaner.output.tail_sol',\n",
       " 'secondary_cleaner.output.tail_au',\n",
       " 'recovery']"
      ]
     },
     "execution_count": 16,
     "metadata": {},
     "output_type": "execute_result"
    }
   ],
   "source": [
    "x = list()\n",
    "for i in list(data_train.columns):\n",
    "    if i not in list(data_test.columns):\n",
    "        x.append(i)\n",
    "x"
   ]
  },
  {
   "cell_type": "markdown",
   "metadata": {},
   "source": [
    "В тестовой выборке не хватает большого числа столбцов, но, на мой взгляд, достаточно будет включить два основных признака <b>final.output.recovery, rougher.output.recovery</b>"
   ]
  },
  {
   "cell_type": "code",
   "execution_count": 17,
   "metadata": {},
   "outputs": [],
   "source": [
    "data_test = data_test.merge(data_full[['final.output.recovery', 'rougher.output.recovery', 'date']], \n",
    "                            how = 'left', on = 'date')"
   ]
  },
  {
   "cell_type": "code",
   "execution_count": 18,
   "metadata": {
    "scrolled": true
   },
   "outputs": [
    {
     "name": "stdout",
     "output_type": "stream",
     "text": [
      "<class 'pandas.core.frame.DataFrame'>\n",
      "Int64Index: 5290 entries, 0 to 5289\n",
      "Data columns (total 55 columns):\n",
      " #   Column                                      Non-Null Count  Dtype  \n",
      "---  ------                                      --------------  -----  \n",
      " 0   date                                        5290 non-null   object \n",
      " 1   primary_cleaner.input.sulfate               5290 non-null   float64\n",
      " 2   primary_cleaner.input.depressant            5290 non-null   float64\n",
      " 3   primary_cleaner.input.feed_size             5290 non-null   float64\n",
      " 4   primary_cleaner.input.xanthate              5290 non-null   float64\n",
      " 5   primary_cleaner.state.floatbank8_a_air      5290 non-null   float64\n",
      " 6   primary_cleaner.state.floatbank8_a_level    5290 non-null   float64\n",
      " 7   primary_cleaner.state.floatbank8_b_air      5290 non-null   float64\n",
      " 8   primary_cleaner.state.floatbank8_b_level    5290 non-null   float64\n",
      " 9   primary_cleaner.state.floatbank8_c_air      5290 non-null   float64\n",
      " 10  primary_cleaner.state.floatbank8_c_level    5290 non-null   float64\n",
      " 11  primary_cleaner.state.floatbank8_d_air      5290 non-null   float64\n",
      " 12  primary_cleaner.state.floatbank8_d_level    5290 non-null   float64\n",
      " 13  rougher.input.feed_ag                       5290 non-null   float64\n",
      " 14  rougher.input.feed_pb                       5290 non-null   float64\n",
      " 15  rougher.input.feed_rate                     5290 non-null   float64\n",
      " 16  rougher.input.feed_size                     5290 non-null   float64\n",
      " 17  rougher.input.feed_sol                      5290 non-null   float64\n",
      " 18  rougher.input.feed_au                       5290 non-null   float64\n",
      " 19  rougher.input.floatbank10_sulfate           5290 non-null   float64\n",
      " 20  rougher.input.floatbank10_xanthate          5290 non-null   float64\n",
      " 21  rougher.input.floatbank11_sulfate           5290 non-null   float64\n",
      " 22  rougher.input.floatbank11_xanthate          5290 non-null   float64\n",
      " 23  rougher.state.floatbank10_a_air             5290 non-null   float64\n",
      " 24  rougher.state.floatbank10_a_level           5290 non-null   float64\n",
      " 25  rougher.state.floatbank10_b_air             5290 non-null   float64\n",
      " 26  rougher.state.floatbank10_b_level           5290 non-null   float64\n",
      " 27  rougher.state.floatbank10_c_air             5290 non-null   float64\n",
      " 28  rougher.state.floatbank10_c_level           5290 non-null   float64\n",
      " 29  rougher.state.floatbank10_d_air             5290 non-null   float64\n",
      " 30  rougher.state.floatbank10_d_level           5290 non-null   float64\n",
      " 31  rougher.state.floatbank10_e_air             5290 non-null   float64\n",
      " 32  rougher.state.floatbank10_e_level           5290 non-null   float64\n",
      " 33  rougher.state.floatbank10_f_air             5290 non-null   float64\n",
      " 34  rougher.state.floatbank10_f_level           5290 non-null   float64\n",
      " 35  secondary_cleaner.state.floatbank2_a_air    5290 non-null   float64\n",
      " 36  secondary_cleaner.state.floatbank2_a_level  5290 non-null   float64\n",
      " 37  secondary_cleaner.state.floatbank2_b_air    5290 non-null   float64\n",
      " 38  secondary_cleaner.state.floatbank2_b_level  5290 non-null   float64\n",
      " 39  secondary_cleaner.state.floatbank3_a_air    5290 non-null   float64\n",
      " 40  secondary_cleaner.state.floatbank3_a_level  5290 non-null   float64\n",
      " 41  secondary_cleaner.state.floatbank3_b_air    5290 non-null   float64\n",
      " 42  secondary_cleaner.state.floatbank3_b_level  5290 non-null   float64\n",
      " 43  secondary_cleaner.state.floatbank4_a_air    5290 non-null   float64\n",
      " 44  secondary_cleaner.state.floatbank4_a_level  5290 non-null   float64\n",
      " 45  secondary_cleaner.state.floatbank4_b_air    5290 non-null   float64\n",
      " 46  secondary_cleaner.state.floatbank4_b_level  5290 non-null   float64\n",
      " 47  secondary_cleaner.state.floatbank5_a_air    5290 non-null   float64\n",
      " 48  secondary_cleaner.state.floatbank5_a_level  5290 non-null   float64\n",
      " 49  secondary_cleaner.state.floatbank5_b_air    5290 non-null   float64\n",
      " 50  secondary_cleaner.state.floatbank5_b_level  5290 non-null   float64\n",
      " 51  secondary_cleaner.state.floatbank6_a_air    5290 non-null   float64\n",
      " 52  secondary_cleaner.state.floatbank6_a_level  5290 non-null   float64\n",
      " 53  final.output.recovery                       5290 non-null   float64\n",
      " 54  rougher.output.recovery                     5290 non-null   float64\n",
      "dtypes: float64(54), object(1)\n",
      "memory usage: 2.3+ MB\n"
     ]
    }
   ],
   "source": [
    "data_test.info()"
   ]
  },
  {
   "cell_type": "markdown",
   "metadata": {},
   "source": [
    "И с предобработкой - всё."
   ]
  },
  {
   "cell_type": "markdown",
   "metadata": {},
   "source": [
    "## Анализ данных"
   ]
  },
  {
   "cell_type": "markdown",
   "metadata": {},
   "source": [
    "- rougher.input.feed_элемент - значения до флотации\n",
    "- rougher.output.concentrate_элемент - значения после флотации\n",
    "- primary_cleaner.output.concentrate_элемент - значения после первичной очистки\n",
    "- final.output.concentrate_элемент - значения после вторичной очистки"
   ]
  },
  {
   "cell_type": "markdown",
   "metadata": {},
   "source": [
    "Посмотрим, что происходит с золотом."
   ]
  },
  {
   "cell_type": "code",
   "execution_count": 19,
   "metadata": {},
   "outputs": [
    {
     "data": {
      "image/png": "[encoded data removed]",
      "text/plain": [
       "<Figure size 1440x720 with 1 Axes>"
      ]
     },
     "metadata": {
      "needs_background": "light"
     },
     "output_type": "display_data"
    }
   ],
   "source": [
    "figure(figsize=(20,10))\n",
    "data_full['rougher.input.feed_au'].hist(bins=50, alpha = 0.5, label = 'значения до флотации');\n",
    "data_full['rougher.output.concentrate_au'].hist(bins = 50, alpha = 0.5, label = 'значения после флотации');\n",
    "data_full['primary_cleaner.output.concentrate_au'].hist(bins = 50, alpha = 0.5, label = ' значения после первичной очистки');\n",
    "data_full['final.output.concentrate_au'].hist(bins = 50, alpha = 0.5, label = 'значения после вторичной очистки');\n",
    "plt.legend();\n"
   ]
  },
  {
   "cell_type": "markdown",
   "metadata": {},
   "source": [
    "Концентрация золота <b>(Aurum)</b> растет с каждым этапом."
   ]
  },
  {
   "cell_type": "code",
   "execution_count": 20,
   "metadata": {
    "scrolled": false
   },
   "outputs": [
    {
     "data": {
      "image/png": "[encoded data removed]",
      "text/plain": [
       "<Figure size 1440x720 with 1 Axes>"
      ]
     },
     "metadata": {
      "needs_background": "light"
     },
     "output_type": "display_data"
    }
   ],
   "source": [
    "figure(figsize=(20,10))\n",
    "data_full['rougher.input.feed_ag'].hist(bins=50, alpha = 0.5, label = 'значения до флотации');\n",
    "data_full['rougher.output.concentrate_ag'].hist(bins = 50, alpha = 0.5, label = 'значения после флотации');\n",
    "data_full['primary_cleaner.output.concentrate_ag'].hist(bins = 50, alpha = 0.5, label = ' значения после первичной очистки');\n",
    "data_full['final.output.concentrate_ag'].hist(bins = 50, alpha = 0.5, label = 'значения после вторичной очистки');\n",
    "plt.legend();"
   ]
  },
  {
   "cell_type": "markdown",
   "metadata": {},
   "source": [
    "Почему-то не получается вывести на графике данные <b>final.output.concentrate_ag</b>(после вторичной очистки)... \n",
    "- upd:пришлось изменять логику заполнения пропусков. Заменял неправильно медианой из-за этого типа данных слетали, появлялись object. Ну и нашел другой метод _ffill_.\n",
    "\n",
    "Концентрация серебра <b>(Argentum)</b>... с этапами очистки уменьшается."
   ]
  },
  {
   "cell_type": "code",
   "execution_count": 21,
   "metadata": {
    "scrolled": false
   },
   "outputs": [
    {
     "data": {
      "image/png": "[encoded data removed]",
      "text/plain": [
       "<Figure size 1440x720 with 1 Axes>"
      ]
     },
     "metadata": {
      "needs_background": "light"
     },
     "output_type": "display_data"
    }
   ],
   "source": [
    "figure(figsize=(20,10))\n",
    "data_full['rougher.input.feed_pb'].hist(bins=50, alpha = 0.5, label = 'значения до флотации');\n",
    "data_full['rougher.output.concentrate_pb'].hist(bins = 50, alpha = 0.5, label = 'значения после флотации');\n",
    "data_full['primary_cleaner.output.concentrate_pb'].hist(bins = 50, alpha = 0.5, label = ' значения после первичной очистки');\n",
    "data_full['final.output.concentrate_pb'].hist(bins = 50, alpha = 0.5, label = 'значения после вторичной очистки');\n",
    "plt.legend();"
   ]
  },
  {
   "cell_type": "markdown",
   "metadata": {},
   "source": [
    "Ситуация со свинцом <b>(Plumbum)</b> cхожа с ситуацией с золотом."
   ]
  },
  {
   "cell_type": "code",
   "execution_count": 22,
   "metadata": {
    "scrolled": false
   },
   "outputs": [
    {
     "data": {
      "image/png": "[encoded data removed]",
      "text/plain": [
       "<Figure size 288x504 with 1 Axes>"
      ]
     },
     "metadata": {
      "needs_background": "light"
     },
     "output_type": "display_data"
    }
   ],
   "source": [
    "plt.rcParams[\"figure.figsize\"] = [4, 7] \n",
    "plt.rcParams[\"figure.autolayout\"] = True \n",
    "Boxplot = pd.DataFrame({\"test\": data_test['rougher.input.feed_size'], \"train\": data_train['rougher.input.feed_size']}) \n",
    "ax = Boxplot[['test', 'train']].plot(kind='box', title='распределение гранул перед флотацией') \n",
    "plt.ylim(0,100);\n",
    "plt.show()"
   ]
  },
  {
   "cell_type": "markdown",
   "metadata": {},
   "source": [
    "Из графика видно, что в среднем в тренировочной выборке гранулы больше чем в тестовой. Как по мне не критичное различие."
   ]
  },
  {
   "cell_type": "code",
   "execution_count": 23,
   "metadata": {},
   "outputs": [
    {
     "data": {
      "text/plain": [
       "count    5290.000000\n",
       "mean       55.952754\n",
       "std        19.080334\n",
       "min         0.046369\n",
       "25%        43.906504\n",
       "50%        50.846843\n",
       "75%        62.451165\n",
       "max       392.494040\n",
       "Name: rougher.input.feed_size, dtype: float64"
      ]
     },
     "execution_count": 23,
     "metadata": {},
     "output_type": "execute_result"
    }
   ],
   "source": [
    "data_test['rougher.input.feed_size'].describe()"
   ]
  },
  {
   "cell_type": "code",
   "execution_count": 24,
   "metadata": {},
   "outputs": [
    {
     "data": {
      "text/plain": [
       "count    14149.000000\n",
       "mean        60.062311\n",
       "std         22.309171\n",
       "min          9.659576\n",
       "25%         48.994530\n",
       "50%         55.373885\n",
       "75%         65.918384\n",
       "max        484.967466\n",
       "Name: rougher.input.feed_size, dtype: float64"
      ]
     },
     "execution_count": 24,
     "metadata": {},
     "output_type": "execute_result"
    }
   ],
   "source": [
    "data_train['rougher.input.feed_size'].describe()"
   ]
  },
  {
   "cell_type": "markdown",
   "metadata": {},
   "source": [
    "В общем-то да."
   ]
  },
  {
   "cell_type": "code",
   "execution_count": 25,
   "metadata": {
    "scrolled": false
   },
   "outputs": [
    {
     "data": {
      "image/png": "[encoded data removed]",
      "text/plain": [
       "<Figure size 288x504 with 1 Axes>"
      ]
     },
     "metadata": {
      "needs_background": "light"
     },
     "output_type": "display_data"
    }
   ],
   "source": [
    "\n",
    "plt.rcParams[\"figure.figsize\"] = [4, 7] \n",
    "plt.rcParams[\"figure.autolayout\"] = True \n",
    "Boxplot = pd.DataFrame({\"test\": data_test['primary_cleaner.input.feed_size'], \"train\": data_train['primary_cleaner.input.feed_size']}) \n",
    "ax = Boxplot[['test', 'train']].plot(kind='box', title='распределение гранул перед первичной очисткой') \n",
    "plt.ylim(4,10);\n",
    "plt.show()"
   ]
  },
  {
   "cell_type": "markdown",
   "metadata": {},
   "source": [
    "Разброс стал заметно меньше."
   ]
  },
  {
   "cell_type": "code",
   "execution_count": 26,
   "metadata": {
    "scrolled": true
   },
   "outputs": [],
   "source": [
    "data_full['sum.rougher.input.feed'] = (data_full['rougher.input.feed_ag'] \n",
    "                                       + data_full['rougher.input.feed_au'] \n",
    "                                       + data_full['rougher.input.feed_pb'])\n",
    "\n",
    "data_full['sum.rougher.output.concentrate'] = (data_full['rougher.output.concentrate_ag'] \n",
    "                                               + data_full['rougher.output.concentrate_au'] \n",
    "                                               + data_full['rougher.output.concentrate_pb'])\n",
    "\n",
    "data_full['sum.final.output.concentrate'] = (data_full['final.output.concentrate_ag'] \n",
    "                                             + data_full['final.output.concentrate_au'] \n",
    "                                             + data_full['final.output.concentrate_pb'])"
   ]
  },
  {
   "cell_type": "code",
   "execution_count": 27,
   "metadata": {
    "scrolled": false
   },
   "outputs": [
    {
     "data": {
      "image/png": "[encoded data removed]",
      "text/plain": [
       "<Figure size 1440x720 with 1 Axes>"
      ]
     },
     "metadata": {
      "needs_background": "light"
     },
     "output_type": "display_data"
    }
   ],
   "source": [
    "figure(figsize=(20,10))\n",
    "data_full['sum.rougher.input.feed'].hist(bins=50, alpha = 0.5, label = 'концентрация до флотации');\n",
    "data_full['sum.rougher.output.concentrate'].hist(bins = 50, alpha = 0.5, label = 'концентрация после флотации');\n",
    "data_full['sum.final.output.concentrate'].hist(bins = 50, alpha = 0.5, label = 'концентрация конечного продукта');\n",
    "plt.legend();"
   ]
  },
  {
   "cell_type": "markdown",
   "metadata": {},
   "source": [
    "На графике видно, что концентрации на каждом рассмотренном этапе растет. (это хорошо)\n",
    "\n",
    "Думаю, можно удалить около<u>нулевые</u> значения, скорее всего это какая-то ошибка."
   ]
  },
  {
   "cell_type": "code",
   "execution_count": 28,
   "metadata": {},
   "outputs": [],
   "source": [
    "data_full = data_full[data_full['sum.rougher.input.feed']>10]\n",
    "data_full = data_full[data_full['sum.rougher.output.concentrate']>10]\n",
    "data_full = data_full[data_full['sum.final.output.concentrate']>10]"
   ]
  },
  {
   "cell_type": "markdown",
   "metadata": {},
   "source": [
    "Еще раз посмотрим на график:"
   ]
  },
  {
   "cell_type": "code",
   "execution_count": 29,
   "metadata": {
    "scrolled": false
   },
   "outputs": [
    {
     "data": {
      "image/png": "[encoded data removed]",
      "text/plain": [
       "<Figure size 1440x720 with 1 Axes>"
      ]
     },
     "metadata": {
      "needs_background": "light"
     },
     "output_type": "display_data"
    }
   ],
   "source": [
    "figure(figsize=(20,10))\n",
    "data_full['sum.rougher.input.feed'].hist(bins=50, alpha = 0.5, label = 'концентрация до флотации');\n",
    "data_full['sum.rougher.output.concentrate'].hist(bins = 50, alpha = 0.5, label = 'концентрация после флотации');\n",
    "data_full['sum.final.output.concentrate'].hist(bins = 50, alpha = 0.5, label = 'концентрация конечного продукта');\n",
    "plt.legend();"
   ]
  },
  {
   "cell_type": "code",
   "execution_count": 30,
   "metadata": {
    "scrolled": true
   },
   "outputs": [],
   "source": [
    "data_train = data_train[data_test.columns]"
   ]
  },
  {
   "cell_type": "markdown",
   "metadata": {},
   "source": [
    "Убрали столбцы, которые не используются в тестовой выборке (в них нет необходимости)."
   ]
  },
  {
   "cell_type": "markdown",
   "metadata": {},
   "source": [
    "## Модель"
   ]
  },
  {
   "attachments": {
    "image-2.png": {
     "image/png": "[encoded data removed]"
    },
    "image.png": {
     "image/png": "[encoded data removed]"
    }
   },
   "cell_type": "markdown",
   "metadata": {},
   "source": [
    "Напишем функцию для вычисления итоговой sMAPE.\n",
    "![image.png](attachment:image.png)\n",
    "![image-2.png](attachment:image-2.png)"
   ]
  },
  {
   "cell_type": "code",
   "execution_count": 31,
   "metadata": {},
   "outputs": [],
   "source": [
    "def fun_sMAPE(target, predicrtion):\n",
    "    sMAPE = (((abs(target - predicrtion)/ (abs(target) + (abs(predicrtion))/ 2))* 100) / len(target)).sum()\n",
    "\n",
    "    return sMAPE"
   ]
  },
  {
   "cell_type": "code",
   "execution_count": 32,
   "metadata": {},
   "outputs": [],
   "source": [
    "features_rougher = []\n",
    "for columns in data_test.columns:\n",
    "    if 'rougher' in columns:\n",
    "        features_rougher.append(columns)"
   ]
  },
  {
   "cell_type": "code",
   "execution_count": 33,
   "metadata": {},
   "outputs": [],
   "source": [
    "train_features_rougher = data_train[features_rougher].drop(['rougher.output.recovery'],axis = 1)\n",
    "train_target_rougher = data_train['rougher.output.recovery']\n",
    "\n",
    "\n",
    "train_features_final = data_train.drop(['rougher.output.recovery','final.output.recovery','date'], axis = 1)\n",
    "train_target_final = data_train['final.output.recovery']\n",
    "\n",
    "\n",
    "test_features_rougher = data_test[features_rougher].drop(['rougher.output.recovery'], axis = 1)\n",
    "test_target_rougher = data_test['rougher.output.recovery']\n",
    "\n",
    "\n",
    "test_features_final = data_test[data_test.columns].drop(['rougher.output.recovery','final.output.recovery','date'], axis = 1)\n",
    "test_target_final = data_test['final.output.recovery']"
   ]
  },
  {
   "cell_type": "code",
   "execution_count": 34,
   "metadata": {},
   "outputs": [],
   "source": [
    "def cross_val(model, features, target):\n",
    "    scores = cross_val_score(model, features, target, scoring = make_scorer(fun_sMAPE, greater_is_better = False), cv = 5, n_jobs = -1)\n",
    "    smape_res = np.mean(scores)\n",
    "    return smape_res"
   ]
  },
  {
   "cell_type": "markdown",
   "metadata": {},
   "source": [
    "С _cross_val_score_ подсказали, но я всё равно не совсем понимаю, как это работает"
   ]
  },
  {
   "cell_type": "code",
   "execution_count": 35,
   "metadata": {},
   "outputs": [],
   "source": [
    "def model_calculation(model):\n",
    "    smape_rougher = cross_val(model, train_features_rougher, train_target_rougher)\n",
    "    smape_final = cross_val(model, train_features_final, train_target_final)\n",
    "    smape_end = 0.25 * smape_rougher + 0.75 * smape_final\n",
    "    print('Оценка по кросс-валидации на rougher', abs(smape_rougher))\n",
    "    print('Оценка качества по кросс-валидации на final', abs(smape_final))\n",
    "    print('Итоговая оценка качества по кросс-валидации', abs(smape_end))"
   ]
  },
  {
   "cell_type": "code",
   "execution_count": 36,
   "metadata": {},
   "outputs": [
    {
     "name": "stdout",
     "output_type": "stream",
     "text": [
      "Оценка по кросс-валидации на rougher 10.745057876850584\n",
      "Оценка качества по кросс-валидации на final 8.05090642999184\n",
      "Итоговая оценка качества по кросс-валидации 8.724444291706526\n"
     ]
    }
   ],
   "source": [
    "model = RandomForestRegressor(random_state = 12345)\n",
    "model_calculation(model)"
   ]
  },
  {
   "cell_type": "code",
   "execution_count": 37,
   "metadata": {},
   "outputs": [
    {
     "name": "stdout",
     "output_type": "stream",
     "text": [
      "Оценка по кросс-валидации на rougher 16.039751842265684\n",
      "Оценка качества по кросс-валидации на final 13.72613120164318\n",
      "Итоговая оценка качества по кросс-валидации 14.304536361798807\n"
     ]
    }
   ],
   "source": [
    "model = DecisionTreeRegressor()\n",
    "model_calculation(model)"
   ]
  },
  {
   "cell_type": "code",
   "execution_count": 38,
   "metadata": {
    "scrolled": true
   },
   "outputs": [
    {
     "name": "stdout",
     "output_type": "stream",
     "text": [
      "Оценка по кросс-валидации на rougher 9.410422992834487\n",
      "Оценка качества по кросс-валидации на final 8.836477513272275\n",
      "Итоговая оценка качества по кросс-валидации 8.979963883162828\n"
     ]
    }
   ],
   "source": [
    "model = LinearRegression()\n",
    "model_calculation(model)"
   ]
  },
  {
   "cell_type": "code",
   "execution_count": 39,
   "metadata": {},
   "outputs": [
    {
     "name": "stdout",
     "output_type": "stream",
     "text": [
      "Оценка по кросс-валидации на rougher 9.571549863265428\n",
      "Оценка качества по кросс-валидации на final 8.02681546929556\n",
      "Итоговая оценка качества по кросс-валидации 8.412999067788027\n"
     ]
    }
   ],
   "source": [
    "model = DummyRegressor()\n",
    "model_calculation(model)"
   ]
  },
  {
   "cell_type": "markdown",
   "metadata": {},
   "source": [
    "Смею предположить, что наиболее эффективной является модель <b>RandomForestRegressor</b>"
   ]
  },
  {
   "cell_type": "markdown",
   "metadata": {},
   "source": [
    "Из-за того что модель обучается крайне долго мой компуктер не вывезет перебирать его глубину и количество деревьем... поэтому оставляю как есть."
   ]
  },
  {
   "cell_type": "code",
   "execution_count": 43,
   "metadata": {},
   "outputs": [
    {
     "data": {
      "text/plain": [
       "{'max_depth': 4, 'n_estimators': 11}"
      ]
     },
     "execution_count": 43,
     "metadata": {},
     "output_type": "execute_result"
    }
   ],
   "source": [
    "parametrs = {'max_depth': range (2, 10, 2),\n",
    "            'n_estimators': range(1, 51, 10)}\n",
    "\n",
    "model = RandomForestRegressor(random_state = 12345)\n",
    "grid = GridSearchCV(model, parametrs, cv = 5, scoring = make_scorer(fun_sMAPE, greater_is_better = False))\n",
    "grid.fit(train_features_rougher, train_target_rougher)\n",
    "grid.best_params_"
   ]
  },
  {
   "cell_type": "code",
   "execution_count": 44,
   "metadata": {},
   "outputs": [],
   "source": [
    "def model_training(model):\n",
    "    model.fit(train_features_rougher, train_target_rougher)\n",
    "    predictions_rougher = model.predict(test_features_rougher)\n",
    "    \n",
    "    model.fit(train_features_final, train_target_final)\n",
    "    predictions_final = model.predict(test_features_final)\n",
    "    \n",
    "    smape_rougher = fun_sMAPE(predictions_rougher, test_target_rougher)\n",
    "    smape_final = fun_sMAPE(predictions_final, test_target_final)\n",
    "    smape_end = 0.25 * smape_rougher + 0.75 * smape_final\n",
    "    \n",
    "    print('Оценка на rougher', abs(smape_rougher))\n",
    "    print('Оценка качества на final', abs(smape_final))\n",
    "    print('Итоговая оценка качества', abs(smape_end))"
   ]
  },
  {
   "cell_type": "code",
   "execution_count": 45,
   "metadata": {},
   "outputs": [
    {
     "name": "stdout",
     "output_type": "stream",
     "text": [
      "Оценка на rougher 5.747379264928226\n",
      "Оценка качества на final 5.98540390210078\n",
      "Итоговая оценка качества 5.925897742807642\n"
     ]
    }
   ],
   "source": [
    "model = RandomForestRegressor(random_state = 12345, max_depth = 4, n_estimators = 11)\n",
    "model_training(model)"
   ]
  },
  {
   "cell_type": "code",
   "execution_count": 46,
   "metadata": {},
   "outputs": [
    {
     "name": "stdout",
     "output_type": "stream",
     "text": [
      "Оценка на rougher 6.314151362268114\n",
      "Оценка качества на final 6.585793450405845\n",
      "Итоговая оценка качества 6.517882928371412\n"
     ]
    }
   ],
   "source": [
    "model = DummyRegressor()\n",
    "model_training(model)"
   ]
  },
  {
   "cell_type": "markdown",
   "metadata": {},
   "source": [
    "## Выводы"
   ]
  },
  {
   "cell_type": "markdown",
   "metadata": {},
   "source": [
    "- Провел предобработку данных: изучили данные, заполнили пропуски.\n",
    "- Изучили содержание драгоценных металлов в процессе их очистки от примесей, построили графики на различных этапах\n",
    "- Исследовали суммарную концентрацию основных веществ (золото, серебро, свинец): в сырье, в черновом и финальном концентратах - в целом она возрастает.\n",
    "- Написали функцию рассчет эффективности обогащения\n",
    "- Обчили несколько моделей и выбрали оптимальную. (как я понял - чем ниже показатели тем лучше)"
   ]
  }
 ],
 "metadata": {
  "ExecuteTimeLog": [
   {
    "duration": 1709,
    "start_time": "2023-02-21T18:48:18.562Z"
   },
   {
    "duration": 2581,
    "start_time": "2023-02-21T18:48:20.273Z"
   },
   {
    "duration": 42,
    "start_time": "2023-02-21T18:48:22.856Z"
   },
   {
    "duration": 10,
    "start_time": "2023-02-21T18:48:22.900Z"
   },
   {
    "duration": 81,
    "start_time": "2023-02-21T18:48:22.911Z"
   },
   {
    "duration": 8,
    "start_time": "2023-02-21T18:48:22.994Z"
   },
   {
    "duration": 148,
    "start_time": "2023-02-21T18:48:23.004Z"
   },
   {
    "duration": 5,
    "start_time": "2023-02-21T18:48:23.154Z"
   },
   {
    "duration": 82,
    "start_time": "2023-02-21T18:48:23.161Z"
   },
   {
    "duration": 236,
    "start_time": "2023-02-21T18:48:23.255Z"
   },
   {
    "duration": 7,
    "start_time": "2023-02-21T18:48:23.493Z"
   },
   {
    "duration": 19,
    "start_time": "2023-02-21T18:48:23.501Z"
   },
   {
    "duration": 30,
    "start_time": "2023-02-21T18:48:23.522Z"
   },
   {
    "duration": 8,
    "start_time": "2023-02-21T18:48:23.554Z"
   },
   {
    "duration": 6,
    "start_time": "2023-02-21T18:48:23.564Z"
   },
   {
    "duration": 8,
    "start_time": "2023-02-21T18:48:23.572Z"
   },
   {
    "duration": 18,
    "start_time": "2023-02-21T18:48:23.582Z"
   },
   {
    "duration": 36,
    "start_time": "2023-02-21T18:48:23.602Z"
   },
   {
    "duration": 608,
    "start_time": "2023-02-21T18:48:23.644Z"
   },
   {
    "duration": 669,
    "start_time": "2023-02-21T18:48:24.254Z"
   },
   {
    "duration": 577,
    "start_time": "2023-02-21T18:48:24.924Z"
   },
   {
    "duration": 284,
    "start_time": "2023-02-21T18:48:25.502Z"
   },
   {
    "duration": 8,
    "start_time": "2023-02-21T18:48:25.787Z"
   },
   {
    "duration": 13,
    "start_time": "2023-02-21T18:48:25.796Z"
   },
   {
    "duration": 260,
    "start_time": "2023-02-21T18:48:25.810Z"
   },
   {
    "duration": 8,
    "start_time": "2023-02-21T18:48:26.071Z"
   },
   {
    "duration": 671,
    "start_time": "2023-02-21T18:48:26.080Z"
   },
   {
    "duration": 25,
    "start_time": "2023-02-21T18:48:26.757Z"
   },
   {
    "duration": 735,
    "start_time": "2023-02-21T18:48:26.784Z"
   },
   {
    "duration": 23,
    "start_time": "2023-02-21T18:48:27.520Z"
   },
   {
    "duration": 6,
    "start_time": "2023-02-21T18:48:27.550Z"
   },
   {
    "duration": 10,
    "start_time": "2023-02-21T18:48:27.557Z"
   },
   {
    "duration": 17,
    "start_time": "2023-02-21T18:48:27.568Z"
   },
   {
    "duration": 7,
    "start_time": "2023-02-21T18:48:27.587Z"
   },
   {
    "duration": 12,
    "start_time": "2023-02-21T18:48:27.596Z"
   },
   {
    "duration": 379645,
    "start_time": "2023-02-21T18:48:27.610Z"
   },
   {
    "duration": 6628,
    "start_time": "2023-02-21T18:54:47.257Z"
   },
   {
    "duration": 2557,
    "start_time": "2023-02-21T18:54:53.887Z"
   },
   {
    "duration": 114,
    "start_time": "2023-02-21T18:54:56.446Z"
   },
   {
    "duration": 118,
    "start_time": "2023-02-21T18:54:56.562Z"
   },
   {
    "duration": 5,
    "start_time": "2023-02-21T18:56:08.058Z"
   },
   {
    "duration": 5,
    "start_time": "2023-02-21T18:56:14.089Z"
   },
   {
    "duration": 143819,
    "start_time": "2023-02-21T18:56:22.368Z"
   },
   {
    "duration": 5,
    "start_time": "2023-02-21T18:59:49.764Z"
   },
   {
    "duration": 2659,
    "start_time": "2023-02-21T18:59:50.774Z"
   },
   {
    "duration": 9,
    "start_time": "2023-02-21T18:59:53.438Z"
   }
  ],
  "kernelspec": {
   "display_name": "Python 3 (ipykernel)",
   "language": "python",
   "name": "python3"
  },
  "language_info": {
   "codemirror_mode": {
    "name": "ipython",
    "version": 3
   },
   "file_extension": ".py",
   "mimetype": "text/x-python",
   "name": "python",
   "nbconvert_exporter": "python",
   "pygments_lexer": "ipython3",
   "version": "3.9.5"
  },
  "toc": {
   "base_numbering": 1,
   "nav_menu": {},
   "number_sections": true,
   "sideBar": true,
   "skip_h1_title": true,
   "title_cell": "Содержание",
   "title_sidebar": "Contents",
   "toc_cell": true,
   "toc_position": {
    "height": "calc(100% - 180px)",
    "left": "10px",
    "top": "150px",
    "width": "165px"
   },
   "toc_section_display": true,
   "toc_window_display": true
  }
 },
 "nbformat": 4,
 "nbformat_minor": 2
}
